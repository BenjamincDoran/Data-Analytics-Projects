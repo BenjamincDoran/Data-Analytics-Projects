{
 "cells": [
  {
   "cell_type": "markdown",
   "id": "eb0bc8d8",
   "metadata": {},
   "source": [
    "# Project Description\n",
    "\n",
    "Dataset: https://www.kaggle.com/datasets/yagunnersya/fifa-21-messy-raw-dataset-for-cleaning-exploring?select=fifa21_raw_data.csv%E2%80%8B\n",
    "\n",
    "This is a messy and raw dataset of EA Sports' popular game, FIFA 21. (I love this game!) Datasets scraped from the web, as in this case, are usually messy. I am interested in cleaning and transforming this dataset to make it more accessible and useful for future projects.\n",
    "\n",
    "After cleaning the dataset, I will perform some exploratory data analysis and explore some practical questions."
   ]
  },
  {
   "cell_type": "markdown",
   "id": "f5caf64b",
   "metadata": {},
   "source": [
    "# Preliminary Data Cleaning"
   ]
  },
  {
   "cell_type": "code",
   "execution_count": 1,
   "id": "c7d73b6c",
   "metadata": {},
   "outputs": [
    {
     "name": "stderr",
     "output_type": "stream",
     "text": [
      "/var/folders/hj/m__xh2951zvcgkjn37nwnbnr0000gn/T/ipykernel_88958/1605274602.py:2: DtypeWarning: Columns (76) have mixed types. Specify dtype option on import or set low_memory=False.\n",
      "  df=pd.read_csv('fifa21 raw data v2.csv')\n"
     ]
    }
   ],
   "source": [
    "import pandas as pd\n",
    "df=pd.read_csv('fifa21 raw data v2.csv')"
   ]
  },
  {
   "cell_type": "code",
   "execution_count": 2,
   "id": "27fe60ff",
   "metadata": {},
   "outputs": [
    {
     "data": {
      "text/html": [
       "<div>\n",
       "<style scoped>\n",
       "    .dataframe tbody tr th:only-of-type {\n",
       "        vertical-align: middle;\n",
       "    }\n",
       "\n",
       "    .dataframe tbody tr th {\n",
       "        vertical-align: top;\n",
       "    }\n",
       "\n",
       "    .dataframe thead th {\n",
       "        text-align: right;\n",
       "    }\n",
       "</style>\n",
       "<table border=\"1\" class=\"dataframe\">\n",
       "  <thead>\n",
       "    <tr style=\"text-align: right;\">\n",
       "      <th></th>\n",
       "      <th>ID</th>\n",
       "      <th>Name</th>\n",
       "      <th>LongName</th>\n",
       "      <th>photoUrl</th>\n",
       "      <th>playerUrl</th>\n",
       "      <th>Nationality</th>\n",
       "      <th>Age</th>\n",
       "      <th>↓OVA</th>\n",
       "      <th>POT</th>\n",
       "      <th>Club</th>\n",
       "      <th>...</th>\n",
       "      <th>A/W</th>\n",
       "      <th>D/W</th>\n",
       "      <th>IR</th>\n",
       "      <th>PAC</th>\n",
       "      <th>SHO</th>\n",
       "      <th>PAS</th>\n",
       "      <th>DRI</th>\n",
       "      <th>DEF</th>\n",
       "      <th>PHY</th>\n",
       "      <th>Hits</th>\n",
       "    </tr>\n",
       "  </thead>\n",
       "  <tbody>\n",
       "    <tr>\n",
       "      <th>0</th>\n",
       "      <td>158023</td>\n",
       "      <td>L. Messi</td>\n",
       "      <td>Lionel Messi</td>\n",
       "      <td>https://cdn.sofifa.com/players/158/023/21_60.png</td>\n",
       "      <td>http://sofifa.com/player/158023/lionel-messi/2...</td>\n",
       "      <td>Argentina</td>\n",
       "      <td>33</td>\n",
       "      <td>93</td>\n",
       "      <td>93</td>\n",
       "      <td>\\n\\n\\n\\nFC Barcelona</td>\n",
       "      <td>...</td>\n",
       "      <td>Medium</td>\n",
       "      <td>Low</td>\n",
       "      <td>5 ★</td>\n",
       "      <td>85</td>\n",
       "      <td>92</td>\n",
       "      <td>91</td>\n",
       "      <td>95</td>\n",
       "      <td>38</td>\n",
       "      <td>65</td>\n",
       "      <td>771</td>\n",
       "    </tr>\n",
       "    <tr>\n",
       "      <th>1</th>\n",
       "      <td>20801</td>\n",
       "      <td>Cristiano Ronaldo</td>\n",
       "      <td>C. Ronaldo dos Santos Aveiro</td>\n",
       "      <td>https://cdn.sofifa.com/players/020/801/21_60.png</td>\n",
       "      <td>http://sofifa.com/player/20801/c-ronaldo-dos-s...</td>\n",
       "      <td>Portugal</td>\n",
       "      <td>35</td>\n",
       "      <td>92</td>\n",
       "      <td>92</td>\n",
       "      <td>\\n\\n\\n\\nJuventus</td>\n",
       "      <td>...</td>\n",
       "      <td>High</td>\n",
       "      <td>Low</td>\n",
       "      <td>5 ★</td>\n",
       "      <td>89</td>\n",
       "      <td>93</td>\n",
       "      <td>81</td>\n",
       "      <td>89</td>\n",
       "      <td>35</td>\n",
       "      <td>77</td>\n",
       "      <td>562</td>\n",
       "    </tr>\n",
       "    <tr>\n",
       "      <th>2</th>\n",
       "      <td>200389</td>\n",
       "      <td>J. Oblak</td>\n",
       "      <td>Jan Oblak</td>\n",
       "      <td>https://cdn.sofifa.com/players/200/389/21_60.png</td>\n",
       "      <td>http://sofifa.com/player/200389/jan-oblak/210006/</td>\n",
       "      <td>Slovenia</td>\n",
       "      <td>27</td>\n",
       "      <td>91</td>\n",
       "      <td>93</td>\n",
       "      <td>\\n\\n\\n\\nAtlético Madrid</td>\n",
       "      <td>...</td>\n",
       "      <td>Medium</td>\n",
       "      <td>Medium</td>\n",
       "      <td>3 ★</td>\n",
       "      <td>87</td>\n",
       "      <td>92</td>\n",
       "      <td>78</td>\n",
       "      <td>90</td>\n",
       "      <td>52</td>\n",
       "      <td>90</td>\n",
       "      <td>150</td>\n",
       "    </tr>\n",
       "    <tr>\n",
       "      <th>3</th>\n",
       "      <td>192985</td>\n",
       "      <td>K. De Bruyne</td>\n",
       "      <td>Kevin De Bruyne</td>\n",
       "      <td>https://cdn.sofifa.com/players/192/985/21_60.png</td>\n",
       "      <td>http://sofifa.com/player/192985/kevin-de-bruyn...</td>\n",
       "      <td>Belgium</td>\n",
       "      <td>29</td>\n",
       "      <td>91</td>\n",
       "      <td>91</td>\n",
       "      <td>\\n\\n\\n\\nManchester City</td>\n",
       "      <td>...</td>\n",
       "      <td>High</td>\n",
       "      <td>High</td>\n",
       "      <td>4 ★</td>\n",
       "      <td>76</td>\n",
       "      <td>86</td>\n",
       "      <td>93</td>\n",
       "      <td>88</td>\n",
       "      <td>64</td>\n",
       "      <td>78</td>\n",
       "      <td>207</td>\n",
       "    </tr>\n",
       "    <tr>\n",
       "      <th>4</th>\n",
       "      <td>190871</td>\n",
       "      <td>Neymar Jr</td>\n",
       "      <td>Neymar da Silva Santos Jr.</td>\n",
       "      <td>https://cdn.sofifa.com/players/190/871/21_60.png</td>\n",
       "      <td>http://sofifa.com/player/190871/neymar-da-silv...</td>\n",
       "      <td>Brazil</td>\n",
       "      <td>28</td>\n",
       "      <td>91</td>\n",
       "      <td>91</td>\n",
       "      <td>\\n\\n\\n\\nParis Saint-Germain</td>\n",
       "      <td>...</td>\n",
       "      <td>High</td>\n",
       "      <td>Medium</td>\n",
       "      <td>5 ★</td>\n",
       "      <td>91</td>\n",
       "      <td>85</td>\n",
       "      <td>86</td>\n",
       "      <td>94</td>\n",
       "      <td>36</td>\n",
       "      <td>59</td>\n",
       "      <td>595</td>\n",
       "    </tr>\n",
       "  </tbody>\n",
       "</table>\n",
       "<p>5 rows × 77 columns</p>\n",
       "</div>"
      ],
      "text/plain": [
       "       ID               Name                      LongName  \\\n",
       "0  158023           L. Messi                  Lionel Messi   \n",
       "1   20801  Cristiano Ronaldo  C. Ronaldo dos Santos Aveiro   \n",
       "2  200389           J. Oblak                     Jan Oblak   \n",
       "3  192985       K. De Bruyne               Kevin De Bruyne   \n",
       "4  190871          Neymar Jr    Neymar da Silva Santos Jr.   \n",
       "\n",
       "                                           photoUrl  \\\n",
       "0  https://cdn.sofifa.com/players/158/023/21_60.png   \n",
       "1  https://cdn.sofifa.com/players/020/801/21_60.png   \n",
       "2  https://cdn.sofifa.com/players/200/389/21_60.png   \n",
       "3  https://cdn.sofifa.com/players/192/985/21_60.png   \n",
       "4  https://cdn.sofifa.com/players/190/871/21_60.png   \n",
       "\n",
       "                                           playerUrl Nationality  Age  ↓OVA  \\\n",
       "0  http://sofifa.com/player/158023/lionel-messi/2...   Argentina   33    93   \n",
       "1  http://sofifa.com/player/20801/c-ronaldo-dos-s...    Portugal   35    92   \n",
       "2  http://sofifa.com/player/200389/jan-oblak/210006/    Slovenia   27    91   \n",
       "3  http://sofifa.com/player/192985/kevin-de-bruyn...     Belgium   29    91   \n",
       "4  http://sofifa.com/player/190871/neymar-da-silv...      Brazil   28    91   \n",
       "\n",
       "   POT                         Club  ...     A/W     D/W   IR PAC SHO  PAS  \\\n",
       "0   93         \\n\\n\\n\\nFC Barcelona  ...  Medium     Low  5 ★  85  92   91   \n",
       "1   92             \\n\\n\\n\\nJuventus  ...    High     Low  5 ★  89  93   81   \n",
       "2   93      \\n\\n\\n\\nAtlético Madrid  ...  Medium  Medium  3 ★  87  92   78   \n",
       "3   91      \\n\\n\\n\\nManchester City  ...    High    High  4 ★  76  86   93   \n",
       "4   91  \\n\\n\\n\\nParis Saint-Germain  ...    High  Medium  5 ★  91  85   86   \n",
       "\n",
       "  DRI DEF PHY Hits  \n",
       "0  95  38  65  771  \n",
       "1  89  35  77  562  \n",
       "2  90  52  90  150  \n",
       "3  88  64  78  207  \n",
       "4  94  36  59  595  \n",
       "\n",
       "[5 rows x 77 columns]"
      ]
     },
     "execution_count": 2,
     "metadata": {},
     "output_type": "execute_result"
    }
   ],
   "source": [
    "df.head()"
   ]
  },
  {
   "cell_type": "markdown",
   "id": "8450ba28",
   "metadata": {},
   "source": [
    "There are a lot of columns in this dataset. After doing a preliminary analysis at the original csv file, I have identified a couple of areas to clean up in the dataset."
   ]
  },
  {
   "cell_type": "markdown",
   "id": "45ef2529",
   "metadata": {},
   "source": [
    "## Remove New Line Characters"
   ]
  },
  {
   "cell_type": "code",
   "execution_count": 4,
   "id": "de3f751e",
   "metadata": {},
   "outputs": [
    {
     "data": {
      "text/plain": [
       "0               \\n\\n\\n\\nFC Barcelona\n",
       "1                   \\n\\n\\n\\nJuventus\n",
       "2            \\n\\n\\n\\nAtlético Madrid\n",
       "3            \\n\\n\\n\\nManchester City\n",
       "4        \\n\\n\\n\\nParis Saint-Germain\n",
       "                    ...             \n",
       "18974             \\n\\n\\n\\nWuhan Zall\n",
       "18975        \\n\\n\\n\\nOldham Athletic\n",
       "18976             \\n\\n\\n\\nDerry City\n",
       "18977       \\n\\n\\n\\nDalian YiFang FC\n",
       "18978       \\n\\n\\n\\nDalian YiFang FC\n",
       "Name: Club, Length: 18979, dtype: object"
      ]
     },
     "execution_count": 4,
     "metadata": {},
     "output_type": "execute_result"
    }
   ],
   "source": [
    "df['Club']"
   ]
  },
  {
   "cell_type": "code",
   "execution_count": 5,
   "id": "e64344f8",
   "metadata": {},
   "outputs": [
    {
     "data": {
      "text/plain": [
       "0               FC Barcelona\n",
       "1                   Juventus\n",
       "2            Atlético Madrid\n",
       "3            Manchester City\n",
       "4        Paris Saint-Germain\n",
       "                ...         \n",
       "18974             Wuhan Zall\n",
       "18975        Oldham Athletic\n",
       "18976             Derry City\n",
       "18977       Dalian YiFang FC\n",
       "18978       Dalian YiFang FC\n",
       "Name: Club, Length: 18979, dtype: object"
      ]
     },
     "execution_count": 5,
     "metadata": {},
     "output_type": "execute_result"
    }
   ],
   "source": [
    "df['Club'] = df['Club'].str.strip('\\n')\n",
    "df['Club']"
   ]
  },
  {
   "cell_type": "markdown",
   "id": "7b3112fe",
   "metadata": {},
   "source": [
    "## Change the height and weight columns into appropriate data types"
   ]
  },
  {
   "cell_type": "markdown",
   "id": "194ac20f",
   "metadata": {},
   "source": [
    "### Weight"
   ]
  },
  {
   "cell_type": "code",
   "execution_count": 6,
   "id": "b67dc6c2",
   "metadata": {},
   "outputs": [
    {
     "data": {
      "text/plain": [
       "180cm    1474\n",
       "178cm    1250\n",
       "185cm    1182\n",
       "183cm    1148\n",
       "175cm    1091\n",
       "         ... \n",
       "6'5\"        1\n",
       "157cm       1\n",
       "5'4\"        1\n",
       "5'6\"        1\n",
       "155cm       1\n",
       "Name: Height, Length: 62, dtype: int64"
      ]
     },
     "execution_count": 6,
     "metadata": {},
     "output_type": "execute_result"
    }
   ],
   "source": [
    "# Currently, heights are in both cm and ft/inches. I want to standardize this into cm.\n",
    "df['Height'].value_counts()"
   ]
  },
  {
   "cell_type": "code",
   "execution_count": 7,
   "id": "ba4d3ad7",
   "metadata": {},
   "outputs": [],
   "source": [
    "# function to convert ft/in into cm values and return only the numbers\n",
    "import re\n",
    "def convert_to_cm(height):\n",
    "    # Check if the height is in centimeters\n",
    "    if 'cm' in height:\n",
    "        return int(re.search(r'\\d+', height).group())\n",
    "    else:\n",
    "        # Convert feet and inches to centimeters\n",
    "        feet, inches = map(int, re.findall(r'\\d+', height))\n",
    "        return int(round((feet * 30.48 + inches * 2.54),0))"
   ]
  },
  {
   "cell_type": "code",
   "execution_count": 8,
   "id": "e7206407",
   "metadata": {},
   "outputs": [
    {
     "data": {
      "text/plain": [
       "0        170\n",
       "1        187\n",
       "2        188\n",
       "3        181\n",
       "4        175\n",
       "        ... \n",
       "18974    178\n",
       "18975    175\n",
       "18976    179\n",
       "18977    175\n",
       "18978    188\n",
       "Name: Height, Length: 18979, dtype: int64"
      ]
     },
     "execution_count": 8,
     "metadata": {},
     "output_type": "execute_result"
    }
   ],
   "source": [
    "# dtype is now int. good.\n",
    "df['Height'] = df['Height'].apply(convert_to_cm)\n",
    "df['Height']"
   ]
  },
  {
   "cell_type": "code",
   "execution_count": 9,
   "id": "c5d81848",
   "metadata": {},
   "outputs": [
    {
     "data": {
      "text/plain": [
       "array([170, 187, 188, 181, 175, 184, 191, 178, 193, 185, 199, 173, 168,\n",
       "       176, 177, 183, 180, 189, 179, 195, 172, 182, 186, 192, 165, 194,\n",
       "       167, 196, 163, 190, 174, 169, 171, 197, 200, 166, 164, 198, 201,\n",
       "       158, 162, 161, 160, 203, 157, 156, 202, 159, 206, 155])"
      ]
     },
     "execution_count": 9,
     "metadata": {},
     "output_type": "execute_result"
    }
   ],
   "source": [
    "# make sure that all values are correct\n",
    "df['Height'].unique()"
   ]
  },
  {
   "cell_type": "markdown",
   "id": "0ffb82d6",
   "metadata": {},
   "source": [
    "### Weight"
   ]
  },
  {
   "cell_type": "code",
   "execution_count": 10,
   "id": "7c922689",
   "metadata": {},
   "outputs": [
    {
     "data": {
      "text/plain": [
       "array(['72kg', '83kg', '87kg', '70kg', '68kg', '80kg', '71kg', '91kg',\n",
       "       '73kg', '85kg', '92kg', '69kg', '84kg', '96kg', '81kg', '82kg',\n",
       "       '75kg', '86kg', '89kg', '74kg', '76kg', '64kg', '78kg', '90kg',\n",
       "       '66kg', '60kg', '94kg', '79kg', '67kg', '65kg', '59kg', '61kg',\n",
       "       '93kg', '88kg', '97kg', '77kg', '62kg', '63kg', '95kg', '100kg',\n",
       "       '58kg', '183lbs', '179lbs', '172lbs', '196lbs', '176lbs', '185lbs',\n",
       "       '170lbs', '203lbs', '168lbs', '161lbs', '146lbs', '130lbs',\n",
       "       '190lbs', '174lbs', '148lbs', '165lbs', '159lbs', '192lbs',\n",
       "       '181lbs', '139lbs', '154lbs', '157lbs', '163lbs', '98kg', '103kg',\n",
       "       '99kg', '102kg', '56kg', '101kg', '57kg', '55kg', '104kg', '107kg',\n",
       "       '110kg', '53kg', '50kg', '54kg', '52kg'], dtype=object)"
      ]
     },
     "execution_count": 10,
     "metadata": {},
     "output_type": "execute_result"
    }
   ],
   "source": [
    "# Weight column is inconsistent. Let's standardize into kgs and keep only the number\n",
    "df['Weight'].unique()"
   ]
  },
  {
   "cell_type": "code",
   "execution_count": 11,
   "id": "a0e67bc0",
   "metadata": {},
   "outputs": [],
   "source": [
    "def convert_to_kg(weight):\n",
    "    # Check if the height is in centimeters\n",
    "    if 'kg' in weight:\n",
    "        return int(re.search(r'\\d+', weight).group())\n",
    "    else:\n",
    "        # Convert feet and inches to centimeters\n",
    "        return int(round(int(re.search(r'\\d+', weight).group())/2.204))"
   ]
  },
  {
   "cell_type": "code",
   "execution_count": 12,
   "id": "019f0328",
   "metadata": {},
   "outputs": [],
   "source": [
    "df['Weight'] = df['Weight'].apply(convert_to_kg)"
   ]
  },
  {
   "cell_type": "code",
   "execution_count": 13,
   "id": "1d6835a0",
   "metadata": {},
   "outputs": [
    {
     "data": {
      "text/plain": [
       "array([ 72,  83,  87,  70,  68,  80,  71,  91,  73,  85,  92,  69,  84,\n",
       "        96,  81,  82,  75,  86,  89,  74,  76,  64,  78,  90,  66,  60,\n",
       "        94,  79,  67,  65,  59,  61,  93,  88,  97,  77,  62,  63,  95,\n",
       "       100,  58,  98, 103,  99, 102,  56, 101,  57,  55, 104, 107, 110,\n",
       "        53,  50,  54,  52])"
      ]
     },
     "execution_count": 13,
     "metadata": {},
     "output_type": "execute_result"
    }
   ],
   "source": [
    "# now all weights are in kgs, and all are integers\n",
    "df['Weight'].unique()"
   ]
  },
  {
   "cell_type": "markdown",
   "id": "e45ebff1",
   "metadata": {},
   "source": [
    "## 'Joined' column\n",
    "split into joined month, day, and year"
   ]
  },
  {
   "cell_type": "code",
   "execution_count": 14,
   "id": "1bf952c3",
   "metadata": {},
   "outputs": [
    {
     "data": {
      "text/plain": [
       "0         Jul 1, 2004\n",
       "1        Jul 10, 2018\n",
       "2        Jul 16, 2014\n",
       "3        Aug 30, 2015\n",
       "4         Aug 3, 2017\n",
       "             ...     \n",
       "18974    Jul 13, 2018\n",
       "18975     Aug 1, 2020\n",
       "18976     Mar 8, 2019\n",
       "18977    Sep 22, 2020\n",
       "18978    Jul 29, 2019\n",
       "Name: Joined, Length: 18979, dtype: object"
      ]
     },
     "execution_count": 14,
     "metadata": {},
     "output_type": "execute_result"
    }
   ],
   "source": [
    "df['Joined']"
   ]
  },
  {
   "cell_type": "code",
   "execution_count": 15,
   "id": "cce242ba",
   "metadata": {},
   "outputs": [],
   "source": [
    "df['Joined_Year'] = pd.DatetimeIndex(df['Joined']).year\n",
    "df['Joined_Month'] = pd.DatetimeIndex(df['Joined']).month\n",
    "df['Joined_Day'] = pd.DatetimeIndex(df['Joined']).day"
   ]
  },
  {
   "cell_type": "code",
   "execution_count": 16,
   "id": "89e79aa8",
   "metadata": {},
   "outputs": [
    {
     "data": {
      "text/html": [
       "<div>\n",
       "<style scoped>\n",
       "    .dataframe tbody tr th:only-of-type {\n",
       "        vertical-align: middle;\n",
       "    }\n",
       "\n",
       "    .dataframe tbody tr th {\n",
       "        vertical-align: top;\n",
       "    }\n",
       "\n",
       "    .dataframe thead th {\n",
       "        text-align: right;\n",
       "    }\n",
       "</style>\n",
       "<table border=\"1\" class=\"dataframe\">\n",
       "  <thead>\n",
       "    <tr style=\"text-align: right;\">\n",
       "      <th></th>\n",
       "      <th>Joined</th>\n",
       "      <th>Joined_Year</th>\n",
       "      <th>Joined_Month</th>\n",
       "      <th>Joined_Day</th>\n",
       "    </tr>\n",
       "  </thead>\n",
       "  <tbody>\n",
       "    <tr>\n",
       "      <th>0</th>\n",
       "      <td>Jul 1, 2004</td>\n",
       "      <td>2004</td>\n",
       "      <td>7</td>\n",
       "      <td>1</td>\n",
       "    </tr>\n",
       "    <tr>\n",
       "      <th>1</th>\n",
       "      <td>Jul 10, 2018</td>\n",
       "      <td>2018</td>\n",
       "      <td>7</td>\n",
       "      <td>10</td>\n",
       "    </tr>\n",
       "    <tr>\n",
       "      <th>2</th>\n",
       "      <td>Jul 16, 2014</td>\n",
       "      <td>2014</td>\n",
       "      <td>7</td>\n",
       "      <td>16</td>\n",
       "    </tr>\n",
       "    <tr>\n",
       "      <th>3</th>\n",
       "      <td>Aug 30, 2015</td>\n",
       "      <td>2015</td>\n",
       "      <td>8</td>\n",
       "      <td>30</td>\n",
       "    </tr>\n",
       "    <tr>\n",
       "      <th>4</th>\n",
       "      <td>Aug 3, 2017</td>\n",
       "      <td>2017</td>\n",
       "      <td>8</td>\n",
       "      <td>3</td>\n",
       "    </tr>\n",
       "    <tr>\n",
       "      <th>...</th>\n",
       "      <td>...</td>\n",
       "      <td>...</td>\n",
       "      <td>...</td>\n",
       "      <td>...</td>\n",
       "    </tr>\n",
       "    <tr>\n",
       "      <th>18974</th>\n",
       "      <td>Jul 13, 2018</td>\n",
       "      <td>2018</td>\n",
       "      <td>7</td>\n",
       "      <td>13</td>\n",
       "    </tr>\n",
       "    <tr>\n",
       "      <th>18975</th>\n",
       "      <td>Aug 1, 2020</td>\n",
       "      <td>2020</td>\n",
       "      <td>8</td>\n",
       "      <td>1</td>\n",
       "    </tr>\n",
       "    <tr>\n",
       "      <th>18976</th>\n",
       "      <td>Mar 8, 2019</td>\n",
       "      <td>2019</td>\n",
       "      <td>3</td>\n",
       "      <td>8</td>\n",
       "    </tr>\n",
       "    <tr>\n",
       "      <th>18977</th>\n",
       "      <td>Sep 22, 2020</td>\n",
       "      <td>2020</td>\n",
       "      <td>9</td>\n",
       "      <td>22</td>\n",
       "    </tr>\n",
       "    <tr>\n",
       "      <th>18978</th>\n",
       "      <td>Jul 29, 2019</td>\n",
       "      <td>2019</td>\n",
       "      <td>7</td>\n",
       "      <td>29</td>\n",
       "    </tr>\n",
       "  </tbody>\n",
       "</table>\n",
       "<p>18979 rows × 4 columns</p>\n",
       "</div>"
      ],
      "text/plain": [
       "             Joined  Joined_Year  Joined_Month  Joined_Day\n",
       "0       Jul 1, 2004         2004             7           1\n",
       "1      Jul 10, 2018         2018             7          10\n",
       "2      Jul 16, 2014         2014             7          16\n",
       "3      Aug 30, 2015         2015             8          30\n",
       "4       Aug 3, 2017         2017             8           3\n",
       "...             ...          ...           ...         ...\n",
       "18974  Jul 13, 2018         2018             7          13\n",
       "18975   Aug 1, 2020         2020             8           1\n",
       "18976   Mar 8, 2019         2019             3           8\n",
       "18977  Sep 22, 2020         2020             9          22\n",
       "18978  Jul 29, 2019         2019             7          29\n",
       "\n",
       "[18979 rows x 4 columns]"
      ]
     },
     "execution_count": 16,
     "metadata": {},
     "output_type": "execute_result"
    }
   ],
   "source": [
    "df[['Joined','Joined_Year','Joined_Month','Joined_Day']]"
   ]
  },
  {
   "cell_type": "markdown",
   "id": "bc419bdd",
   "metadata": {},
   "source": [
    "## Value Column\n",
    "convert Value, Wage, Release Clause columns from string to integer"
   ]
  },
  {
   "cell_type": "code",
   "execution_count": 17,
   "id": "c1157170",
   "metadata": {},
   "outputs": [
    {
     "data": {
      "text/html": [
       "<div>\n",
       "<style scoped>\n",
       "    .dataframe tbody tr th:only-of-type {\n",
       "        vertical-align: middle;\n",
       "    }\n",
       "\n",
       "    .dataframe tbody tr th {\n",
       "        vertical-align: top;\n",
       "    }\n",
       "\n",
       "    .dataframe thead th {\n",
       "        text-align: right;\n",
       "    }\n",
       "</style>\n",
       "<table border=\"1\" class=\"dataframe\">\n",
       "  <thead>\n",
       "    <tr style=\"text-align: right;\">\n",
       "      <th></th>\n",
       "      <th>Value</th>\n",
       "      <th>Wage</th>\n",
       "      <th>Release Clause</th>\n",
       "    </tr>\n",
       "  </thead>\n",
       "  <tbody>\n",
       "    <tr>\n",
       "      <th>0</th>\n",
       "      <td>€103.5M</td>\n",
       "      <td>€560K</td>\n",
       "      <td>€138.4M</td>\n",
       "    </tr>\n",
       "    <tr>\n",
       "      <th>1</th>\n",
       "      <td>€63M</td>\n",
       "      <td>€220K</td>\n",
       "      <td>€75.9M</td>\n",
       "    </tr>\n",
       "    <tr>\n",
       "      <th>2</th>\n",
       "      <td>€120M</td>\n",
       "      <td>€125K</td>\n",
       "      <td>€159.4M</td>\n",
       "    </tr>\n",
       "    <tr>\n",
       "      <th>3</th>\n",
       "      <td>€129M</td>\n",
       "      <td>€370K</td>\n",
       "      <td>€161M</td>\n",
       "    </tr>\n",
       "    <tr>\n",
       "      <th>4</th>\n",
       "      <td>€132M</td>\n",
       "      <td>€270K</td>\n",
       "      <td>€166.5M</td>\n",
       "    </tr>\n",
       "    <tr>\n",
       "      <th>...</th>\n",
       "      <td>...</td>\n",
       "      <td>...</td>\n",
       "      <td>...</td>\n",
       "    </tr>\n",
       "    <tr>\n",
       "      <th>18974</th>\n",
       "      <td>€100K</td>\n",
       "      <td>€1K</td>\n",
       "      <td>€70K</td>\n",
       "    </tr>\n",
       "    <tr>\n",
       "      <th>18975</th>\n",
       "      <td>€130K</td>\n",
       "      <td>€500</td>\n",
       "      <td>€165K</td>\n",
       "    </tr>\n",
       "    <tr>\n",
       "      <th>18976</th>\n",
       "      <td>€120K</td>\n",
       "      <td>€500</td>\n",
       "      <td>€131K</td>\n",
       "    </tr>\n",
       "    <tr>\n",
       "      <th>18977</th>\n",
       "      <td>€100K</td>\n",
       "      <td>€2K</td>\n",
       "      <td>€88K</td>\n",
       "    </tr>\n",
       "    <tr>\n",
       "      <th>18978</th>\n",
       "      <td>€100K</td>\n",
       "      <td>€1K</td>\n",
       "      <td>€79K</td>\n",
       "    </tr>\n",
       "  </tbody>\n",
       "</table>\n",
       "<p>18979 rows × 3 columns</p>\n",
       "</div>"
      ],
      "text/plain": [
       "         Value   Wage Release Clause\n",
       "0      €103.5M  €560K        €138.4M\n",
       "1         €63M  €220K         €75.9M\n",
       "2        €120M  €125K        €159.4M\n",
       "3        €129M  €370K          €161M\n",
       "4        €132M  €270K        €166.5M\n",
       "...        ...    ...            ...\n",
       "18974    €100K    €1K           €70K\n",
       "18975    €130K   €500          €165K\n",
       "18976    €120K   €500          €131K\n",
       "18977    €100K    €2K           €88K\n",
       "18978    €100K    €1K           €79K\n",
       "\n",
       "[18979 rows x 3 columns]"
      ]
     },
     "execution_count": 17,
     "metadata": {},
     "output_type": "execute_result"
    }
   ],
   "source": [
    "# these are currently string objects. Want to change these to only integers.\n",
    "df.loc[:,['Value','Wage','Release Clause']]"
   ]
  },
  {
   "cell_type": "code",
   "execution_count": 18,
   "id": "32a740d9",
   "metadata": {},
   "outputs": [
    {
     "data": {
      "text/html": [
       "<div>\n",
       "<style scoped>\n",
       "    .dataframe tbody tr th:only-of-type {\n",
       "        vertical-align: middle;\n",
       "    }\n",
       "\n",
       "    .dataframe tbody tr th {\n",
       "        vertical-align: top;\n",
       "    }\n",
       "\n",
       "    .dataframe thead th {\n",
       "        text-align: right;\n",
       "    }\n",
       "</style>\n",
       "<table border=\"1\" class=\"dataframe\">\n",
       "  <thead>\n",
       "    <tr style=\"text-align: right;\">\n",
       "      <th></th>\n",
       "      <th>Value</th>\n",
       "      <th>Wage</th>\n",
       "      <th>Release Clause</th>\n",
       "    </tr>\n",
       "  </thead>\n",
       "  <tbody>\n",
       "    <tr>\n",
       "      <th>0</th>\n",
       "      <td>103.5M</td>\n",
       "      <td>560K</td>\n",
       "      <td>138.4M</td>\n",
       "    </tr>\n",
       "    <tr>\n",
       "      <th>1</th>\n",
       "      <td>63M</td>\n",
       "      <td>220K</td>\n",
       "      <td>75.9M</td>\n",
       "    </tr>\n",
       "    <tr>\n",
       "      <th>2</th>\n",
       "      <td>120M</td>\n",
       "      <td>125K</td>\n",
       "      <td>159.4M</td>\n",
       "    </tr>\n",
       "    <tr>\n",
       "      <th>3</th>\n",
       "      <td>129M</td>\n",
       "      <td>370K</td>\n",
       "      <td>161M</td>\n",
       "    </tr>\n",
       "    <tr>\n",
       "      <th>4</th>\n",
       "      <td>132M</td>\n",
       "      <td>270K</td>\n",
       "      <td>166.5M</td>\n",
       "    </tr>\n",
       "    <tr>\n",
       "      <th>...</th>\n",
       "      <td>...</td>\n",
       "      <td>...</td>\n",
       "      <td>...</td>\n",
       "    </tr>\n",
       "    <tr>\n",
       "      <th>18974</th>\n",
       "      <td>100K</td>\n",
       "      <td>1K</td>\n",
       "      <td>70K</td>\n",
       "    </tr>\n",
       "    <tr>\n",
       "      <th>18975</th>\n",
       "      <td>130K</td>\n",
       "      <td>500</td>\n",
       "      <td>165K</td>\n",
       "    </tr>\n",
       "    <tr>\n",
       "      <th>18976</th>\n",
       "      <td>120K</td>\n",
       "      <td>500</td>\n",
       "      <td>131K</td>\n",
       "    </tr>\n",
       "    <tr>\n",
       "      <th>18977</th>\n",
       "      <td>100K</td>\n",
       "      <td>2K</td>\n",
       "      <td>88K</td>\n",
       "    </tr>\n",
       "    <tr>\n",
       "      <th>18978</th>\n",
       "      <td>100K</td>\n",
       "      <td>1K</td>\n",
       "      <td>79K</td>\n",
       "    </tr>\n",
       "  </tbody>\n",
       "</table>\n",
       "<p>18979 rows × 3 columns</p>\n",
       "</div>"
      ],
      "text/plain": [
       "        Value  Wage Release Clause\n",
       "0      103.5M  560K         138.4M\n",
       "1         63M  220K          75.9M\n",
       "2        120M  125K         159.4M\n",
       "3        129M  370K           161M\n",
       "4        132M  270K         166.5M\n",
       "...       ...   ...            ...\n",
       "18974    100K    1K            70K\n",
       "18975    130K   500           165K\n",
       "18976    120K   500           131K\n",
       "18977    100K    2K            88K\n",
       "18978    100K    1K            79K\n",
       "\n",
       "[18979 rows x 3 columns]"
      ]
     },
     "execution_count": 18,
     "metadata": {},
     "output_type": "execute_result"
    }
   ],
   "source": [
    "# get rid of euro sign\n",
    "df['Value'] = df['Value'].str.lstrip('€')\n",
    "df['Wage'] = df['Wage'].str.lstrip('€')\n",
    "df['Release Clause'] = df['Release Clause'].str.lstrip('€')\n",
    "df.loc[:,['Value','Wage','Release Clause']]"
   ]
  },
  {
   "cell_type": "code",
   "execution_count": 19,
   "id": "700c1f09",
   "metadata": {},
   "outputs": [],
   "source": [
    "# multiply values by one thousand or million accordingly\n",
    "def multiply(value):\n",
    "    if 'M' in value:\n",
    "        return float(value[:-1])*1000000\n",
    "    elif 'K' in value:\n",
    "        return float(value[:-1])*1000\n",
    "    else:\n",
    "        return float(value)\n",
    "        "
   ]
  },
  {
   "cell_type": "code",
   "execution_count": 20,
   "id": "71678a1c",
   "metadata": {},
   "outputs": [
    {
     "data": {
      "text/html": [
       "<div>\n",
       "<style scoped>\n",
       "    .dataframe tbody tr th:only-of-type {\n",
       "        vertical-align: middle;\n",
       "    }\n",
       "\n",
       "    .dataframe tbody tr th {\n",
       "        vertical-align: top;\n",
       "    }\n",
       "\n",
       "    .dataframe thead th {\n",
       "        text-align: right;\n",
       "    }\n",
       "</style>\n",
       "<table border=\"1\" class=\"dataframe\">\n",
       "  <thead>\n",
       "    <tr style=\"text-align: right;\">\n",
       "      <th></th>\n",
       "      <th>Value</th>\n",
       "      <th>Wage</th>\n",
       "      <th>Release Clause</th>\n",
       "    </tr>\n",
       "  </thead>\n",
       "  <tbody>\n",
       "    <tr>\n",
       "      <th>0</th>\n",
       "      <td>103500000.0</td>\n",
       "      <td>560000.0</td>\n",
       "      <td>138400000.0</td>\n",
       "    </tr>\n",
       "    <tr>\n",
       "      <th>1</th>\n",
       "      <td>63000000.0</td>\n",
       "      <td>220000.0</td>\n",
       "      <td>75900000.0</td>\n",
       "    </tr>\n",
       "    <tr>\n",
       "      <th>2</th>\n",
       "      <td>120000000.0</td>\n",
       "      <td>125000.0</td>\n",
       "      <td>159400000.0</td>\n",
       "    </tr>\n",
       "    <tr>\n",
       "      <th>3</th>\n",
       "      <td>129000000.0</td>\n",
       "      <td>370000.0</td>\n",
       "      <td>161000000.0</td>\n",
       "    </tr>\n",
       "    <tr>\n",
       "      <th>4</th>\n",
       "      <td>132000000.0</td>\n",
       "      <td>270000.0</td>\n",
       "      <td>166500000.0</td>\n",
       "    </tr>\n",
       "    <tr>\n",
       "      <th>...</th>\n",
       "      <td>...</td>\n",
       "      <td>...</td>\n",
       "      <td>...</td>\n",
       "    </tr>\n",
       "    <tr>\n",
       "      <th>18974</th>\n",
       "      <td>100000.0</td>\n",
       "      <td>1000.0</td>\n",
       "      <td>70000.0</td>\n",
       "    </tr>\n",
       "    <tr>\n",
       "      <th>18975</th>\n",
       "      <td>130000.0</td>\n",
       "      <td>500.0</td>\n",
       "      <td>165000.0</td>\n",
       "    </tr>\n",
       "    <tr>\n",
       "      <th>18976</th>\n",
       "      <td>120000.0</td>\n",
       "      <td>500.0</td>\n",
       "      <td>131000.0</td>\n",
       "    </tr>\n",
       "    <tr>\n",
       "      <th>18977</th>\n",
       "      <td>100000.0</td>\n",
       "      <td>2000.0</td>\n",
       "      <td>88000.0</td>\n",
       "    </tr>\n",
       "    <tr>\n",
       "      <th>18978</th>\n",
       "      <td>100000.0</td>\n",
       "      <td>1000.0</td>\n",
       "      <td>79000.0</td>\n",
       "    </tr>\n",
       "  </tbody>\n",
       "</table>\n",
       "<p>18979 rows × 3 columns</p>\n",
       "</div>"
      ],
      "text/plain": [
       "             Value      Wage  Release Clause\n",
       "0      103500000.0  560000.0     138400000.0\n",
       "1       63000000.0  220000.0      75900000.0\n",
       "2      120000000.0  125000.0     159400000.0\n",
       "3      129000000.0  370000.0     161000000.0\n",
       "4      132000000.0  270000.0     166500000.0\n",
       "...            ...       ...             ...\n",
       "18974     100000.0    1000.0         70000.0\n",
       "18975     130000.0     500.0        165000.0\n",
       "18976     120000.0     500.0        131000.0\n",
       "18977     100000.0    2000.0         88000.0\n",
       "18978     100000.0    1000.0         79000.0\n",
       "\n",
       "[18979 rows x 3 columns]"
      ]
     },
     "execution_count": 20,
     "metadata": {},
     "output_type": "execute_result"
    }
   ],
   "source": [
    "# updated version. contains all float values\n",
    "df['Value'] = df['Value'].apply(multiply)\n",
    "df['Wage'] = df['Wage'].apply(multiply)\n",
    "df['Release Clause'] = df['Release Clause'].apply(multiply)\n",
    "df.loc[:,['Value','Wage','Release Clause']]"
   ]
  },
  {
   "cell_type": "markdown",
   "id": "2a85f7e2",
   "metadata": {},
   "source": [
    "## IR column (player star rating) has \"star\" symbol\n",
    "\n",
    "Strip column of stars and make numerical"
   ]
  },
  {
   "cell_type": "code",
   "execution_count": 29,
   "id": "b1b3aff8",
   "metadata": {},
   "outputs": [
    {
     "data": {
      "text/plain": [
       "0        5 ★\n",
       "1        5 ★\n",
       "2        3 ★\n",
       "3        4 ★\n",
       "4        5 ★\n",
       "        ... \n",
       "18974    1 ★\n",
       "18975    1 ★\n",
       "18976    1 ★\n",
       "18977    1 ★\n",
       "18978    1 ★\n",
       "Name: IR, Length: 18979, dtype: object"
      ]
     },
     "execution_count": 29,
     "metadata": {},
     "output_type": "execute_result"
    }
   ],
   "source": [
    "df['IR']"
   ]
  },
  {
   "cell_type": "code",
   "execution_count": 30,
   "id": "554c9f16",
   "metadata": {},
   "outputs": [
    {
     "data": {
      "text/plain": [
       "0        5\n",
       "1        5\n",
       "2        3\n",
       "3        4\n",
       "4        5\n",
       "        ..\n",
       "18974    1\n",
       "18975    1\n",
       "18976    1\n",
       "18977    1\n",
       "18978    1\n",
       "Name: IR, Length: 18979, dtype: int64"
      ]
     },
     "execution_count": 30,
     "metadata": {},
     "output_type": "execute_result"
    }
   ],
   "source": [
    "df['IR'] = df['IR'].str.replace(' ★', '').astype(int)\n",
    "df['IR']"
   ]
  },
  {
   "cell_type": "markdown",
   "id": "ef212c7c",
   "metadata": {},
   "source": [
    "# Exploratory Data Analysis\n",
    "After cleaning up the data a bit, I want to take a deeper look into the dataset.\n",
    "\n",
    "There are ENDLESS ways to perform EDA. In the following I merely give a few examples of some of the insights that can be explored and visualized. In a real business setting, the direction of analysis depends on business demands."
   ]
  },
  {
   "cell_type": "code",
   "execution_count": 31,
   "id": "66fd7bf6",
   "metadata": {},
   "outputs": [
    {
     "name": "stdout",
     "output_type": "stream",
     "text": [
      "<class 'pandas.core.frame.DataFrame'>\n",
      "RangeIndex: 18979 entries, 0 to 18978\n",
      "Data columns (total 79 columns):\n",
      " #   Column            Non-Null Count  Dtype  \n",
      "---  ------            --------------  -----  \n",
      " 0   ID                18979 non-null  int64  \n",
      " 1   Name              18979 non-null  object \n",
      " 2   LongName          18979 non-null  object \n",
      " 3   photoUrl          18979 non-null  object \n",
      " 4   playerUrl         18979 non-null  object \n",
      " 5   Nationality       18979 non-null  object \n",
      " 6   Age               18979 non-null  int64  \n",
      " 7   ↓OVA              18979 non-null  int64  \n",
      " 8   POT               18979 non-null  int64  \n",
      " 9   Club              18979 non-null  object \n",
      " 10  Contract          18979 non-null  object \n",
      " 11  Positions         18979 non-null  object \n",
      " 12  Height            18979 non-null  int64  \n",
      " 13  Weight            18979 non-null  int64  \n",
      " 14  Preferred Foot    18979 non-null  object \n",
      " 15  BOV               18979 non-null  int64  \n",
      " 16  Best Position     18979 non-null  object \n",
      " 17  Joined            18979 non-null  object \n",
      " 18  Value             18979 non-null  float64\n",
      " 19  Wage              18979 non-null  float64\n",
      " 20  Release Clause    18979 non-null  float64\n",
      " 21  Attacking         18979 non-null  int64  \n",
      " 22  Crossing          18979 non-null  int64  \n",
      " 23  Finishing         18979 non-null  int64  \n",
      " 24  Heading Accuracy  18979 non-null  int64  \n",
      " 25  Short Passing     18979 non-null  int64  \n",
      " 26  Volleys           18979 non-null  int64  \n",
      " 27  Skill             18979 non-null  int64  \n",
      " 28  Dribbling         18979 non-null  int64  \n",
      " 29  Curve             18979 non-null  int64  \n",
      " 30  FK Accuracy       18979 non-null  int64  \n",
      " 31  Long Passing      18979 non-null  int64  \n",
      " 32  Ball Control      18979 non-null  int64  \n",
      " 33  Movement          18979 non-null  int64  \n",
      " 34  Acceleration      18979 non-null  int64  \n",
      " 35  Sprint Speed      18979 non-null  int64  \n",
      " 36  Agility           18979 non-null  int64  \n",
      " 37  Reactions         18979 non-null  int64  \n",
      " 38  Balance           18979 non-null  int64  \n",
      " 39  Power             18979 non-null  int64  \n",
      " 40  Shot Power        18979 non-null  int64  \n",
      " 41  Jumping           18979 non-null  int64  \n",
      " 42  Stamina           18979 non-null  int64  \n",
      " 43  Strength          18979 non-null  int64  \n",
      " 44  Long Shots        18979 non-null  int64  \n",
      " 45  Mentality         18979 non-null  int64  \n",
      " 46  Aggression        18979 non-null  int64  \n",
      " 47  Interceptions     18979 non-null  int64  \n",
      " 48  Positioning       18979 non-null  int64  \n",
      " 49  Vision            18979 non-null  int64  \n",
      " 50  Penalties         18979 non-null  int64  \n",
      " 51  Composure         18979 non-null  int64  \n",
      " 52  Defending         18979 non-null  int64  \n",
      " 53  Marking           18979 non-null  int64  \n",
      " 54  Standing Tackle   18979 non-null  int64  \n",
      " 55  Sliding Tackle    18979 non-null  int64  \n",
      " 56  Goalkeeping       18979 non-null  int64  \n",
      " 57  GK Diving         18979 non-null  int64  \n",
      " 58  GK Handling       18979 non-null  int64  \n",
      " 59  GK Kicking        18979 non-null  int64  \n",
      " 60  GK Positioning    18979 non-null  int64  \n",
      " 61  GK Reflexes       18979 non-null  int64  \n",
      " 62  Total Stats       18979 non-null  int64  \n",
      " 63  Base Stats        18979 non-null  int64  \n",
      " 64  W/F               18979 non-null  object \n",
      " 65  SM                18979 non-null  object \n",
      " 66  A/W               18979 non-null  object \n",
      " 67  D/W               18979 non-null  object \n",
      " 68  IR                18979 non-null  int64  \n",
      " 69  PAC               18979 non-null  int64  \n",
      " 70  SHO               18979 non-null  int64  \n",
      " 71  PAS               18979 non-null  int64  \n",
      " 72  DRI               18979 non-null  int64  \n",
      " 73  DEF               18979 non-null  int64  \n",
      " 74  PHY               18979 non-null  int64  \n",
      " 75  Hits              16384 non-null  object \n",
      " 76  Joined_Year       18979 non-null  int64  \n",
      " 77  Joined_Month      18979 non-null  int64  \n",
      " 78  Joined_Day        18979 non-null  int64  \n",
      "dtypes: float64(3), int64(60), object(16)\n",
      "memory usage: 11.4+ MB\n"
     ]
    }
   ],
   "source": [
    "df.info()"
   ]
  },
  {
   "cell_type": "markdown",
   "id": "1a6a6997",
   "metadata": {},
   "source": [
    "Based on a very high level look at the column infos, it appears that there are a lot of int columns representing in-game stats of each player, such as attacking, crossing, finishing, etc. Details of these attributes can be found here: https://fifauteam.com/fifa-21-attributes-guide/ Other columns include relevant information on the player, such as weight, height, nationality, salary, preferred foot, which club they play for, when they joined, etc."
   ]
  },
  {
   "cell_type": "code",
   "execution_count": 22,
   "id": "5ee13ffe",
   "metadata": {},
   "outputs": [
    {
     "name": "stdout",
     "output_type": "stream",
     "text": [
      "Loan Date End has 17966 null values\n",
      "Hits has 2595 null values\n"
     ]
    }
   ],
   "source": [
    "# Let's see if there are null values in any of the columns\n",
    "for column in df.columns:\n",
    "    if df[column].isnull().sum()>0:\n",
    "        print(f'{column} has {df[column].isnull().sum()} null values')"
   ]
  },
  {
   "cell_type": "code",
   "execution_count": 23,
   "id": "7eafe911",
   "metadata": {},
   "outputs": [],
   "source": [
    "# Proceed to drop Loan Date End Column as it has a high percentage of nulls and likely won't benefit analysis\n",
    "df=df.drop(['Loan Date End'], axis=1)"
   ]
  },
  {
   "cell_type": "code",
   "execution_count": 24,
   "id": "e4aed2a1",
   "metadata": {},
   "outputs": [
    {
     "data": {
      "text/html": [
       "<div>\n",
       "<style scoped>\n",
       "    .dataframe tbody tr th:only-of-type {\n",
       "        vertical-align: middle;\n",
       "    }\n",
       "\n",
       "    .dataframe tbody tr th {\n",
       "        vertical-align: top;\n",
       "    }\n",
       "\n",
       "    .dataframe thead th {\n",
       "        text-align: right;\n",
       "    }\n",
       "</style>\n",
       "<table border=\"1\" class=\"dataframe\">\n",
       "  <thead>\n",
       "    <tr style=\"text-align: right;\">\n",
       "      <th></th>\n",
       "      <th>ID</th>\n",
       "      <th>Age</th>\n",
       "      <th>↓OVA</th>\n",
       "      <th>POT</th>\n",
       "      <th>Height</th>\n",
       "      <th>Weight</th>\n",
       "      <th>BOV</th>\n",
       "      <th>Value</th>\n",
       "      <th>Wage</th>\n",
       "      <th>Release Clause</th>\n",
       "      <th>...</th>\n",
       "      <th>Base Stats</th>\n",
       "      <th>PAC</th>\n",
       "      <th>SHO</th>\n",
       "      <th>PAS</th>\n",
       "      <th>DRI</th>\n",
       "      <th>DEF</th>\n",
       "      <th>PHY</th>\n",
       "      <th>Joined_Year</th>\n",
       "      <th>Joined_Month</th>\n",
       "      <th>Joined_Day</th>\n",
       "    </tr>\n",
       "  </thead>\n",
       "  <tbody>\n",
       "    <tr>\n",
       "      <th>count</th>\n",
       "      <td>18979.000000</td>\n",
       "      <td>18979.000000</td>\n",
       "      <td>18979.000000</td>\n",
       "      <td>18979.000000</td>\n",
       "      <td>18979.000000</td>\n",
       "      <td>18979.000000</td>\n",
       "      <td>18979.000000</td>\n",
       "      <td>1.897900e+04</td>\n",
       "      <td>18979.000000</td>\n",
       "      <td>1.897900e+04</td>\n",
       "      <td>...</td>\n",
       "      <td>18979.000000</td>\n",
       "      <td>18979.000000</td>\n",
       "      <td>18979.000000</td>\n",
       "      <td>18979.000000</td>\n",
       "      <td>18979.000000</td>\n",
       "      <td>18979.000000</td>\n",
       "      <td>18979.000000</td>\n",
       "      <td>18979.000000</td>\n",
       "      <td>18979.000000</td>\n",
       "      <td>18979.000000</td>\n",
       "    </tr>\n",
       "    <tr>\n",
       "      <th>mean</th>\n",
       "      <td>226403.384794</td>\n",
       "      <td>25.194109</td>\n",
       "      <td>65.718636</td>\n",
       "      <td>71.136414</td>\n",
       "      <td>181.200221</td>\n",
       "      <td>75.019021</td>\n",
       "      <td>66.751726</td>\n",
       "      <td>2.865063e+06</td>\n",
       "      <td>9092.062279</td>\n",
       "      <td>3.962951e+06</td>\n",
       "      <td>...</td>\n",
       "      <td>355.702197</td>\n",
       "      <td>67.453975</td>\n",
       "      <td>53.457031</td>\n",
       "      <td>57.681016</td>\n",
       "      <td>62.875020</td>\n",
       "      <td>49.866221</td>\n",
       "      <td>64.368934</td>\n",
       "      <td>2018.288371</td>\n",
       "      <td>5.659466</td>\n",
       "      <td>10.191053</td>\n",
       "    </tr>\n",
       "    <tr>\n",
       "      <th>std</th>\n",
       "      <td>27141.054157</td>\n",
       "      <td>4.710520</td>\n",
       "      <td>6.968999</td>\n",
       "      <td>6.114635</td>\n",
       "      <td>6.840054</td>\n",
       "      <td>7.073542</td>\n",
       "      <td>6.747193</td>\n",
       "      <td>7.685154e+06</td>\n",
       "      <td>19707.021089</td>\n",
       "      <td>9.772762e+06</td>\n",
       "      <td>...</td>\n",
       "      <td>40.761117</td>\n",
       "      <td>10.677859</td>\n",
       "      <td>13.827425</td>\n",
       "      <td>10.081857</td>\n",
       "      <td>9.927415</td>\n",
       "      <td>16.443213</td>\n",
       "      <td>9.601883</td>\n",
       "      <td>2.085924</td>\n",
       "      <td>3.094688</td>\n",
       "      <td>9.979612</td>\n",
       "    </tr>\n",
       "    <tr>\n",
       "      <th>min</th>\n",
       "      <td>41.000000</td>\n",
       "      <td>16.000000</td>\n",
       "      <td>47.000000</td>\n",
       "      <td>47.000000</td>\n",
       "      <td>155.000000</td>\n",
       "      <td>50.000000</td>\n",
       "      <td>48.000000</td>\n",
       "      <td>0.000000e+00</td>\n",
       "      <td>0.000000</td>\n",
       "      <td>0.000000e+00</td>\n",
       "      <td>...</td>\n",
       "      <td>232.000000</td>\n",
       "      <td>25.000000</td>\n",
       "      <td>16.000000</td>\n",
       "      <td>25.000000</td>\n",
       "      <td>25.000000</td>\n",
       "      <td>12.000000</td>\n",
       "      <td>28.000000</td>\n",
       "      <td>1998.000000</td>\n",
       "      <td>1.000000</td>\n",
       "      <td>1.000000</td>\n",
       "    </tr>\n",
       "    <tr>\n",
       "      <th>25%</th>\n",
       "      <td>210135.000000</td>\n",
       "      <td>21.000000</td>\n",
       "      <td>61.000000</td>\n",
       "      <td>67.000000</td>\n",
       "      <td>176.000000</td>\n",
       "      <td>70.000000</td>\n",
       "      <td>62.000000</td>\n",
       "      <td>4.750000e+05</td>\n",
       "      <td>1000.000000</td>\n",
       "      <td>4.235000e+05</td>\n",
       "      <td>...</td>\n",
       "      <td>327.000000</td>\n",
       "      <td>61.000000</td>\n",
       "      <td>44.000000</td>\n",
       "      <td>51.000000</td>\n",
       "      <td>57.000000</td>\n",
       "      <td>35.000000</td>\n",
       "      <td>58.000000</td>\n",
       "      <td>2018.000000</td>\n",
       "      <td>2.000000</td>\n",
       "      <td>1.000000</td>\n",
       "    </tr>\n",
       "    <tr>\n",
       "      <th>50%</th>\n",
       "      <td>232418.000000</td>\n",
       "      <td>25.000000</td>\n",
       "      <td>66.000000</td>\n",
       "      <td>71.000000</td>\n",
       "      <td>181.000000</td>\n",
       "      <td>75.000000</td>\n",
       "      <td>67.000000</td>\n",
       "      <td>9.500000e+05</td>\n",
       "      <td>3000.000000</td>\n",
       "      <td>1.000000e+06</td>\n",
       "      <td>...</td>\n",
       "      <td>356.000000</td>\n",
       "      <td>68.000000</td>\n",
       "      <td>56.000000</td>\n",
       "      <td>58.000000</td>\n",
       "      <td>64.000000</td>\n",
       "      <td>53.000000</td>\n",
       "      <td>65.000000</td>\n",
       "      <td>2019.000000</td>\n",
       "      <td>7.000000</td>\n",
       "      <td>7.000000</td>\n",
       "    </tr>\n",
       "    <tr>\n",
       "      <th>75%</th>\n",
       "      <td>246922.500000</td>\n",
       "      <td>29.000000</td>\n",
       "      <td>70.000000</td>\n",
       "      <td>75.000000</td>\n",
       "      <td>186.000000</td>\n",
       "      <td>80.000000</td>\n",
       "      <td>71.000000</td>\n",
       "      <td>2.000000e+06</td>\n",
       "      <td>8000.000000</td>\n",
       "      <td>2.800000e+06</td>\n",
       "      <td>...</td>\n",
       "      <td>384.000000</td>\n",
       "      <td>75.000000</td>\n",
       "      <td>64.000000</td>\n",
       "      <td>64.000000</td>\n",
       "      <td>69.000000</td>\n",
       "      <td>63.000000</td>\n",
       "      <td>71.000000</td>\n",
       "      <td>2020.000000</td>\n",
       "      <td>8.000000</td>\n",
       "      <td>18.000000</td>\n",
       "    </tr>\n",
       "    <tr>\n",
       "      <th>max</th>\n",
       "      <td>259216.000000</td>\n",
       "      <td>53.000000</td>\n",
       "      <td>93.000000</td>\n",
       "      <td>95.000000</td>\n",
       "      <td>206.000000</td>\n",
       "      <td>110.000000</td>\n",
       "      <td>93.000000</td>\n",
       "      <td>1.855000e+08</td>\n",
       "      <td>560000.000000</td>\n",
       "      <td>2.031000e+08</td>\n",
       "      <td>...</td>\n",
       "      <td>498.000000</td>\n",
       "      <td>96.000000</td>\n",
       "      <td>93.000000</td>\n",
       "      <td>93.000000</td>\n",
       "      <td>95.000000</td>\n",
       "      <td>91.000000</td>\n",
       "      <td>91.000000</td>\n",
       "      <td>2020.000000</td>\n",
       "      <td>12.000000</td>\n",
       "      <td>31.000000</td>\n",
       "    </tr>\n",
       "  </tbody>\n",
       "</table>\n",
       "<p>8 rows × 62 columns</p>\n",
       "</div>"
      ],
      "text/plain": [
       "                  ID           Age          ↓OVA           POT        Height  \\\n",
       "count   18979.000000  18979.000000  18979.000000  18979.000000  18979.000000   \n",
       "mean   226403.384794     25.194109     65.718636     71.136414    181.200221   \n",
       "std     27141.054157      4.710520      6.968999      6.114635      6.840054   \n",
       "min        41.000000     16.000000     47.000000     47.000000    155.000000   \n",
       "25%    210135.000000     21.000000     61.000000     67.000000    176.000000   \n",
       "50%    232418.000000     25.000000     66.000000     71.000000    181.000000   \n",
       "75%    246922.500000     29.000000     70.000000     75.000000    186.000000   \n",
       "max    259216.000000     53.000000     93.000000     95.000000    206.000000   \n",
       "\n",
       "             Weight           BOV         Value           Wage  \\\n",
       "count  18979.000000  18979.000000  1.897900e+04   18979.000000   \n",
       "mean      75.019021     66.751726  2.865063e+06    9092.062279   \n",
       "std        7.073542      6.747193  7.685154e+06   19707.021089   \n",
       "min       50.000000     48.000000  0.000000e+00       0.000000   \n",
       "25%       70.000000     62.000000  4.750000e+05    1000.000000   \n",
       "50%       75.000000     67.000000  9.500000e+05    3000.000000   \n",
       "75%       80.000000     71.000000  2.000000e+06    8000.000000   \n",
       "max      110.000000     93.000000  1.855000e+08  560000.000000   \n",
       "\n",
       "       Release Clause  ...    Base Stats           PAC           SHO  \\\n",
       "count    1.897900e+04  ...  18979.000000  18979.000000  18979.000000   \n",
       "mean     3.962951e+06  ...    355.702197     67.453975     53.457031   \n",
       "std      9.772762e+06  ...     40.761117     10.677859     13.827425   \n",
       "min      0.000000e+00  ...    232.000000     25.000000     16.000000   \n",
       "25%      4.235000e+05  ...    327.000000     61.000000     44.000000   \n",
       "50%      1.000000e+06  ...    356.000000     68.000000     56.000000   \n",
       "75%      2.800000e+06  ...    384.000000     75.000000     64.000000   \n",
       "max      2.031000e+08  ...    498.000000     96.000000     93.000000   \n",
       "\n",
       "                PAS           DRI           DEF           PHY   Joined_Year  \\\n",
       "count  18979.000000  18979.000000  18979.000000  18979.000000  18979.000000   \n",
       "mean      57.681016     62.875020     49.866221     64.368934   2018.288371   \n",
       "std       10.081857      9.927415     16.443213      9.601883      2.085924   \n",
       "min       25.000000     25.000000     12.000000     28.000000   1998.000000   \n",
       "25%       51.000000     57.000000     35.000000     58.000000   2018.000000   \n",
       "50%       58.000000     64.000000     53.000000     65.000000   2019.000000   \n",
       "75%       64.000000     69.000000     63.000000     71.000000   2020.000000   \n",
       "max       93.000000     95.000000     91.000000     91.000000   2020.000000   \n",
       "\n",
       "       Joined_Month    Joined_Day  \n",
       "count  18979.000000  18979.000000  \n",
       "mean       5.659466     10.191053  \n",
       "std        3.094688      9.979612  \n",
       "min        1.000000      1.000000  \n",
       "25%        2.000000      1.000000  \n",
       "50%        7.000000      7.000000  \n",
       "75%        8.000000     18.000000  \n",
       "max       12.000000     31.000000  \n",
       "\n",
       "[8 rows x 62 columns]"
      ]
     },
     "execution_count": 24,
     "metadata": {},
     "output_type": "execute_result"
    }
   ],
   "source": [
    "# A quick look at summary statistics\n",
    "df.describe()"
   ]
  },
  {
   "cell_type": "markdown",
   "id": "875e5f19",
   "metadata": {},
   "source": [
    "Given the many columns, here are a few questions that I would like to analyzye and visualize\n",
    "1. distribution of key player attributes, such as attacking, defending, and movement\n",
    "2. distribution of players based on nationality and clubs\n",
    "3. Which players are highly valuable but relatively underpaid (on low wages)?"
   ]
  },
  {
   "cell_type": "markdown",
   "id": "9c1dcb46",
   "metadata": {},
   "source": [
    "## Distribution of player attributes"
   ]
  },
  {
   "cell_type": "code",
   "execution_count": 25,
   "id": "07e7ff43",
   "metadata": {},
   "outputs": [],
   "source": [
    "import matplotlib.pyplot as plt\n",
    "import seaborn as sns"
   ]
  },
  {
   "cell_type": "code",
   "execution_count": 26,
   "id": "5547463d",
   "metadata": {},
   "outputs": [
    {
     "data": {
      "text/plain": [
       "Text(0.5, 1.0, 'Histogrm of Attacking')"
      ]
     },
     "execution_count": 26,
     "metadata": {},
     "output_type": "execute_result"
    },
    {
     "data": {
      "image/png": "[encoded data removed]",
      "text/plain": [
       "<Figure size 640x480 with 1 Axes>"
      ]
     },
     "metadata": {},
     "output_type": "display_data"
    }
   ],
   "source": [
    "sns.histplot(df['Attacking'], bins=20, kde=True)\n",
    "plt.title('Histogrm of Attacking')"
   ]
  },
  {
   "cell_type": "markdown",
   "id": "c5c80f76",
   "metadata": {},
   "source": [
    "Observation: bimodal.\n",
    "possible explanation: two distinct types of players. eg. attackers and defenders. if so, would expect similar shape for defensive attribute"
   ]
  },
  {
   "cell_type": "code",
   "execution_count": 27,
   "id": "70517f21",
   "metadata": {},
   "outputs": [
    {
     "data": {
      "text/plain": [
       "Text(0.5, 1.0, 'Histogrm of Defending')"
      ]
     },
     "execution_count": 27,
     "metadata": {},
     "output_type": "execute_result"
    },
    {
     "data": {
      "image/png": "[encoded data removed]",
      "text/plain": [
       "<Figure size 640x480 with 1 Axes>"
      ]
     },
     "metadata": {},
     "output_type": "display_data"
    }
   ],
   "source": [
    "sns.histplot(df['Defending'], bins=20, kde=True)\n",
    "plt.title('Histogrm of Defending')"
   ]
  },
  {
   "cell_type": "code",
   "execution_count": 28,
   "id": "d6d5462f",
   "metadata": {},
   "outputs": [
    {
     "data": {
      "text/plain": [
       "Text(0.5, 1.0, 'Histogrm of Goalkeeping')"
      ]
     },
     "execution_count": 28,
     "metadata": {},
     "output_type": "execute_result"
    },
    {
     "data": {
      "image/png": "[encoded data removed]",
      "text/plain": [
       "<Figure size 640x480 with 1 Axes>"
      ]
     },
     "metadata": {},
     "output_type": "display_data"
    }
   ],
   "source": [
    "sns.histplot(df['Goalkeeping'], bins=20, kde=True)\n",
    "plt.title('Histogrm of Goalkeeping')"
   ]
  },
  {
   "cell_type": "markdown",
   "id": "34e204bf",
   "metadata": {},
   "source": [
    "## Distribution of Players Based on Nationality and Club"
   ]
  },
  {
   "cell_type": "code",
   "execution_count": 39,
   "id": "044890a3",
   "metadata": {},
   "outputs": [],
   "source": [
    "nationality_counts = df['Nationality'].value_counts().head(20)\n",
    "club_counts = df['Club'].value_counts().head(10)"
   ]
  },
  {
   "cell_type": "code",
   "execution_count": 37,
   "id": "4dc8fd33",
   "metadata": {},
   "outputs": [
    {
     "data": {
      "image/png": "[encoded data removed]",
      "text/plain": [
       "<Figure size 1200x600 with 1 Axes>"
      ]
     },
     "metadata": {},
     "output_type": "display_data"
    }
   ],
   "source": [
    "# Plotting the distribution of players based on nationality\n",
    "plt.figure(figsize=(12, 6))\n",
    "sns.barplot(x=nationality_counts.index, y=nationality_counts.values, palette='viridis')\n",
    "plt.title('Distribution of Players by Nationality (Top 20)')\n",
    "plt.xlabel('Nationality')\n",
    "plt.ylabel('Number of Players')\n",
    "plt.xticks(rotation=90)\n",
    "plt.show()"
   ]
  },
  {
   "cell_type": "code",
   "execution_count": 40,
   "id": "3050c106",
   "metadata": {},
   "outputs": [
    {
     "data": {
      "image/png": "[encoded data removed]",
      "text/plain": [
       "<Figure size 1200x600 with 1 Axes>"
      ]
     },
     "metadata": {},
     "output_type": "display_data"
    }
   ],
   "source": [
    "top_clubs = club_counts.head(10)\n",
    "plt.figure(figsize=(12, 6))\n",
    "sns.barplot(x=top_clubs.index, y=top_clubs.values, palette='viridis')\n",
    "plt.title('Distribution of Players by Club (Top 10)')\n",
    "plt.xlabel('Club')\n",
    "plt.ylabel('Number of Players')\n",
    "plt.xticks(rotation=45)\n",
    "plt.show()"
   ]
  },
  {
   "cell_type": "markdown",
   "id": "adf0a038",
   "metadata": {},
   "source": [
    "## Valuable Players That Are Underpaid"
   ]
  },
  {
   "cell_type": "markdown",
   "id": "ed81af76",
   "metadata": {},
   "source": [
    "To answer this question, I look at the scatterplot between value and wage."
   ]
  },
  {
   "cell_type": "code",
   "execution_count": 60,
   "id": "1460e029",
   "metadata": {},
   "outputs": [
    {
     "data": {
      "image/png": "[encoded data removed]",
      "text/plain": [
       "<Figure size 1000x600 with 1 Axes>"
      ]
     },
     "metadata": {},
     "output_type": "display_data"
    }
   ],
   "source": [
    "plt.figure(figsize=(10, 6))\n",
    "sns.scatterplot(x=df['Wage'], y=df['Value'], color='blue', alpha=0.5)\n",
    "plt.title('Scatter Plot of Wage and Value')\n",
    "plt.xlabel('Wage')\n",
    "plt.ylabel('Value')\n",
    "plt.grid(True)\n",
    "plt.show()"
   ]
  },
  {
   "cell_type": "code",
   "execution_count": 62,
   "id": "346a29ef",
   "metadata": {},
   "outputs": [
    {
     "data": {
      "text/plain": [
       "1       Cristiano Ronaldo\n",
       "2                J. Oblak\n",
       "4               Neymar Jr\n",
       "5          R. Lewandowski\n",
       "6                M. Salah\n",
       "              ...        \n",
       "1994           S. Córdova\n",
       "2005           G. Arteaga\n",
       "2012            M. Camara\n",
       "2018          A. Ramsdale\n",
       "2032           M. Djenepo\n",
       "Name: Name, Length: 1089, dtype: object"
      ]
     },
     "execution_count": 62,
     "metadata": {},
     "output_type": "execute_result"
    }
   ],
   "source": [
    "# Identify players in the top-right corner (high value, low wage)\n",
    "# These cutoff points for wage and value are arbitrary. Could be changed\n",
    "underpaid_players = df[(df['Wage'] < 300000) & (df['Value'] > 1*10**7)]\n",
    "# From 18979 total players, there are 1089 players who would be considered \"high value, low wage\" based on cutoffs\n",
    "underpaid_players['Name']"
   ]
  }
 ],
 "metadata": {
  "kernelspec": {
   "display_name": "Python 3 (ipykernel)",
   "language": "python",
   "name": "python3"
  },
  "language_info": {
   "codemirror_mode": {
    "name": "ipython",
    "version": 3
   },
   "file_extension": ".py",
   "mimetype": "text/x-python",
   "name": "python",
   "nbconvert_exporter": "python",
   "pygments_lexer": "ipython3",
   "version": "3.9.13"
  },
  "toc": {
   "base_numbering": 1,
   "nav_menu": {},
   "number_sections": true,
   "sideBar": true,
   "skip_h1_title": false,
   "title_cell": "Table of Contents",
   "title_sidebar": "Contents",
   "toc_cell": false,
   "toc_position": {},
   "toc_section_display": true,
   "toc_window_display": false
  }
 },
 "nbformat": 4,
 "nbformat_minor": 5
}
